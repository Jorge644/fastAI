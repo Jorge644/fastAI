{
  "nbformat": 4,
  "nbformat_minor": 0,
  "metadata": {
    "colab": {
      "name": "Azure.ipynb",
      "provenance": [],
      "collapsed_sections": []
    },
    "kernelspec": {
      "name": "python3",
      "display_name": "Python 3",
      "language": "python"
    },
    "accelerator": "GPU",
    "widgets": {
      "application/vnd.jupyter.widget-state+json": {
        "59dd4695d7a940cba7cb4b59390d8261": {
          "model_module": "@jupyter-widgets/controls",
          "model_name": "VBoxModel",
          "state": {
            "_view_name": "VBoxView",
            "_dom_classes": [],
            "_model_name": "VBoxModel",
            "_view_module": "@jupyter-widgets/controls",
            "_model_module_version": "1.5.0",
            "_view_count": null,
            "_view_module_version": "1.5.0",
            "box_style": "",
            "layout": "IPY_MODEL_7641cb1053044833b5d773eb987b5632",
            "_model_module": "@jupyter-widgets/controls",
            "children": [
              "IPY_MODEL_8652af4d0d704af2942921025eb6ade3",
              "IPY_MODEL_fad71b4159ca4c828979479e8cbd297e",
              "IPY_MODEL_3d6557171b0849d39bf5b025fd1c396c",
              "IPY_MODEL_c0c0c75a32b04515837afae6e310edb3"
            ]
          }
        },
        "7641cb1053044833b5d773eb987b5632": {
          "model_module": "@jupyter-widgets/base",
          "model_name": "LayoutModel",
          "state": {
            "_view_name": "LayoutView",
            "grid_template_rows": null,
            "right": null,
            "justify_content": null,
            "_view_module": "@jupyter-widgets/base",
            "overflow": null,
            "_model_module_version": "1.2.0",
            "_view_count": null,
            "flex_flow": null,
            "width": null,
            "min_width": null,
            "border": null,
            "align_items": null,
            "bottom": null,
            "_model_module": "@jupyter-widgets/base",
            "top": null,
            "grid_column": null,
            "overflow_y": null,
            "overflow_x": null,
            "grid_auto_flow": null,
            "grid_area": null,
            "grid_template_columns": null,
            "flex": null,
            "_model_name": "LayoutModel",
            "justify_items": null,
            "grid_row": null,
            "max_height": null,
            "align_content": null,
            "visibility": null,
            "align_self": null,
            "height": null,
            "min_height": null,
            "padding": null,
            "grid_auto_rows": null,
            "grid_gap": null,
            "max_width": null,
            "order": null,
            "_view_module_version": "1.2.0",
            "grid_template_areas": null,
            "object_position": null,
            "object_fit": null,
            "grid_auto_columns": null,
            "margin": null,
            "display": null,
            "left": null
          }
        },
        "8652af4d0d704af2942921025eb6ade3": {
          "model_module": "@jupyter-widgets/controls",
          "model_name": "LabelModel",
          "state": {
            "_view_name": "LabelView",
            "style": "IPY_MODEL_8c69755cf3624300a5c0a9ffc79ddcaa",
            "_dom_classes": [],
            "description": "",
            "_model_name": "LabelModel",
            "placeholder": "​",
            "_view_module": "@jupyter-widgets/controls",
            "_model_module_version": "1.5.0",
            "value": "Select your cat!",
            "_view_count": null,
            "_view_module_version": "1.5.0",
            "description_tooltip": null,
            "_model_module": "@jupyter-widgets/controls",
            "layout": "IPY_MODEL_d48b3fda85814140bc4f7bea4f058e16"
          }
        },
        "fad71b4159ca4c828979479e8cbd297e": {
          "model_module": "@jupyter-widgets/controls",
          "model_name": "FileUploadModel",
          "state": {
            "_view_name": "FileUploadView",
            "_counter": 1,
            "style": "IPY_MODEL_928e42d0010947e993a614e1721f6600",
            "_dom_classes": [],
            "description": "Upload",
            "multiple": false,
            "_model_name": "FileUploadModel",
            "data": [
              null
            ],
            "button_style": "",
            "_view_module": "@jupyter-widgets/controls",
            "_model_module_version": "1.5.0",
            "accept": "",
            "_view_count": null,
            "disabled": false,
            "_view_module_version": "1.5.0",
            "error": "",
            "description_tooltip": null,
            "metadata": [
              {
                "name": "cat.jpg",
                "type": "image/jpeg",
                "size": 25433,
                "lastModified": 1607434315526
              }
            ],
            "_model_module": "@jupyter-widgets/controls",
            "layout": "IPY_MODEL_70c1e641ee6a4bb0ad67546eaa4a004e",
            "icon": "upload"
          }
        },
        "3d6557171b0849d39bf5b025fd1c396c": {
          "model_module": "@jupyter-widgets/output",
          "model_name": "OutputModel",
          "state": {
            "_view_name": "OutputView",
            "msg_id": "",
            "_dom_classes": [],
            "_model_name": "OutputModel",
            "outputs": [
              {
                "output_type": "display_data",
                "metadata": {
                  "tags": []
                },
                "image/png": "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\n",
                "text/plain": "<PIL.Image.Image image mode=RGB size=128x105 at 0x7F0D36629198>"
              }
            ],
            "_view_module": "@jupyter-widgets/output",
            "_model_module_version": "1.0.0",
            "_view_count": null,
            "_view_module_version": "1.0.0",
            "layout": "IPY_MODEL_f0caa3aefaca4732946459db86afabbd",
            "_model_module": "@jupyter-widgets/output"
          }
        },
        "c0c0c75a32b04515837afae6e310edb3": {
          "model_module": "@jupyter-widgets/controls",
          "model_name": "LabelModel",
          "state": {
            "_view_name": "LabelView",
            "style": "IPY_MODEL_4c144b5e92704f4cacc90fbae9084d90",
            "_dom_classes": [],
            "description": "",
            "_model_name": "LabelModel",
            "placeholder": "​",
            "_view_module": "@jupyter-widgets/controls",
            "_model_module_version": "1.5.0",
            "value": "Prediction: True; Probability: 0.9965",
            "_view_count": null,
            "_view_module_version": "1.5.0",
            "description_tooltip": null,
            "_model_module": "@jupyter-widgets/controls",
            "layout": "IPY_MODEL_350579f782c348d49b8fbeb59c6f9c2d"
          }
        },
        "8c69755cf3624300a5c0a9ffc79ddcaa": {
          "model_module": "@jupyter-widgets/controls",
          "model_name": "DescriptionStyleModel",
          "state": {
            "_view_name": "StyleView",
            "_model_name": "DescriptionStyleModel",
            "description_width": "",
            "_view_module": "@jupyter-widgets/base",
            "_model_module_version": "1.5.0",
            "_view_count": null,
            "_view_module_version": "1.2.0",
            "_model_module": "@jupyter-widgets/controls"
          }
        },
        "d48b3fda85814140bc4f7bea4f058e16": {
          "model_module": "@jupyter-widgets/base",
          "model_name": "LayoutModel",
          "state": {
            "_view_name": "LayoutView",
            "grid_template_rows": null,
            "right": null,
            "justify_content": null,
            "_view_module": "@jupyter-widgets/base",
            "overflow": null,
            "_model_module_version": "1.2.0",
            "_view_count": null,
            "flex_flow": null,
            "width": null,
            "min_width": null,
            "border": null,
            "align_items": null,
            "bottom": null,
            "_model_module": "@jupyter-widgets/base",
            "top": null,
            "grid_column": null,
            "overflow_y": null,
            "overflow_x": null,
            "grid_auto_flow": null,
            "grid_area": null,
            "grid_template_columns": null,
            "flex": null,
            "_model_name": "LayoutModel",
            "justify_items": null,
            "grid_row": null,
            "max_height": null,
            "align_content": null,
            "visibility": null,
            "align_self": null,
            "height": null,
            "min_height": null,
            "padding": null,
            "grid_auto_rows": null,
            "grid_gap": null,
            "max_width": null,
            "order": null,
            "_view_module_version": "1.2.0",
            "grid_template_areas": null,
            "object_position": null,
            "object_fit": null,
            "grid_auto_columns": null,
            "margin": null,
            "display": null,
            "left": null
          }
        },
        "928e42d0010947e993a614e1721f6600": {
          "model_module": "@jupyter-widgets/controls",
          "model_name": "ButtonStyleModel",
          "state": {
            "_view_name": "StyleView",
            "_model_name": "ButtonStyleModel",
            "_view_module": "@jupyter-widgets/base",
            "_model_module_version": "1.5.0",
            "_view_count": null,
            "button_color": null,
            "font_weight": "",
            "_view_module_version": "1.2.0",
            "_model_module": "@jupyter-widgets/controls"
          }
        },
        "70c1e641ee6a4bb0ad67546eaa4a004e": {
          "model_module": "@jupyter-widgets/base",
          "model_name": "LayoutModel",
          "state": {
            "_view_name": "LayoutView",
            "grid_template_rows": null,
            "right": null,
            "justify_content": null,
            "_view_module": "@jupyter-widgets/base",
            "overflow": null,
            "_model_module_version": "1.2.0",
            "_view_count": null,
            "flex_flow": null,
            "width": null,
            "min_width": null,
            "border": null,
            "align_items": null,
            "bottom": null,
            "_model_module": "@jupyter-widgets/base",
            "top": null,
            "grid_column": null,
            "overflow_y": null,
            "overflow_x": null,
            "grid_auto_flow": null,
            "grid_area": null,
            "grid_template_columns": null,
            "flex": null,
            "_model_name": "LayoutModel",
            "justify_items": null,
            "grid_row": null,
            "max_height": null,
            "align_content": null,
            "visibility": null,
            "align_self": null,
            "height": null,
            "min_height": null,
            "padding": null,
            "grid_auto_rows": null,
            "grid_gap": null,
            "max_width": null,
            "order": null,
            "_view_module_version": "1.2.0",
            "grid_template_areas": null,
            "object_position": null,
            "object_fit": null,
            "grid_auto_columns": null,
            "margin": null,
            "display": null,
            "left": null
          }
        },
        "4c144b5e92704f4cacc90fbae9084d90": {
          "model_module": "@jupyter-widgets/controls",
          "model_name": "DescriptionStyleModel",
          "state": {
            "_view_name": "StyleView",
            "_model_name": "DescriptionStyleModel",
            "description_width": "",
            "_view_module": "@jupyter-widgets/base",
            "_model_module_version": "1.5.0",
            "_view_count": null,
            "_view_module_version": "1.2.0",
            "_model_module": "@jupyter-widgets/controls"
          }
        },
        "350579f782c348d49b8fbeb59c6f9c2d": {
          "model_module": "@jupyter-widgets/base",
          "model_name": "LayoutModel",
          "state": {
            "_view_name": "LayoutView",
            "grid_template_rows": null,
            "right": null,
            "justify_content": null,
            "_view_module": "@jupyter-widgets/base",
            "overflow": null,
            "_model_module_version": "1.2.0",
            "_view_count": null,
            "flex_flow": null,
            "width": null,
            "min_width": null,
            "border": null,
            "align_items": null,
            "bottom": null,
            "_model_module": "@jupyter-widgets/base",
            "top": null,
            "grid_column": null,
            "overflow_y": null,
            "overflow_x": null,
            "grid_auto_flow": null,
            "grid_area": null,
            "grid_template_columns": null,
            "flex": null,
            "_model_name": "LayoutModel",
            "justify_items": null,
            "grid_row": null,
            "max_height": null,
            "align_content": null,
            "visibility": null,
            "align_self": null,
            "height": null,
            "min_height": null,
            "padding": null,
            "grid_auto_rows": null,
            "grid_gap": null,
            "max_width": null,
            "order": null,
            "_view_module_version": "1.2.0",
            "grid_template_areas": null,
            "object_position": null,
            "object_fit": null,
            "grid_auto_columns": null,
            "margin": null,
            "display": null,
            "left": null
          }
        },
        "f0caa3aefaca4732946459db86afabbd": {
          "model_module": "@jupyter-widgets/base",
          "model_name": "LayoutModel",
          "state": {
            "_view_name": "LayoutView",
            "grid_template_rows": null,
            "right": null,
            "justify_content": null,
            "_view_module": "@jupyter-widgets/base",
            "overflow": null,
            "_model_module_version": "1.2.0",
            "_view_count": null,
            "flex_flow": null,
            "width": null,
            "min_width": null,
            "border": null,
            "align_items": null,
            "bottom": null,
            "_model_module": "@jupyter-widgets/base",
            "top": null,
            "grid_column": null,
            "overflow_y": null,
            "overflow_x": null,
            "grid_auto_flow": null,
            "grid_area": null,
            "grid_template_columns": null,
            "flex": null,
            "_model_name": "LayoutModel",
            "justify_items": null,
            "grid_row": null,
            "max_height": null,
            "align_content": null,
            "visibility": null,
            "align_self": null,
            "height": null,
            "min_height": null,
            "padding": null,
            "grid_auto_rows": null,
            "grid_gap": null,
            "max_width": null,
            "order": null,
            "_view_module_version": "1.2.0",
            "grid_template_areas": null,
            "object_position": null,
            "object_fit": null,
            "grid_auto_columns": null,
            "margin": null,
            "display": null,
            "left": null
          }
        }
      }
    }
  },
  "cells": [
    {
      "cell_type": "code",
      "metadata": {
        "id": "7V5pt89w2F04"
      },
      "source": [
        "from fastai.vision.all import *\r\n",
        "from fastai.vision.widgets import *\r\n"
      ],
      "execution_count": 1,
      "outputs": []
    },
    {
      "cell_type": "code",
      "metadata": {
        "id": "o-EJmYNe2Jq5"
      },
      "source": [
        "def is_cat(x): return x[0].isupper()\n",
        "learn_inf = load_learner('/content/drive/MyDrive/AI/Models/my_export.pkl', cpu=True)\n",
        "btn_upload = widgets.FileUpload()\n",
        "out_pl = widgets.Output()\n",
        "lbl_pred = widgets.Label()"
      ],
      "execution_count": 9,
      "outputs": [
        {
          "output_type": "error",
          "ename": "AttributeError",
          "evalue": "Can't get attribute 'is_cat' on <module '__main__'>",
          "traceback": [
            "\u001b[0;31m---------------------------------------------------------------------------\u001b[0m",
            "\u001b[0;31mAttributeError\u001b[0m                            Traceback (most recent call last)",
            "\u001b[0;32m<ipython-input-9-dff7c035465a>\u001b[0m in \u001b[0;36m<module>\u001b[0;34m\u001b[0m\n\u001b[0;32m----> 1\u001b[0;31m \u001b[0mlearn_inf\u001b[0m \u001b[0;34m=\u001b[0m \u001b[0mload_learner\u001b[0m\u001b[0;34m(\u001b[0m\u001b[0;34m'my_export.pkl'\u001b[0m\u001b[0;34m,\u001b[0m \u001b[0mcpu\u001b[0m\u001b[0;34m=\u001b[0m\u001b[0;32mTrue\u001b[0m\u001b[0;34m)\u001b[0m\u001b[0;34m\u001b[0m\u001b[0;34m\u001b[0m\u001b[0m\n\u001b[0m\u001b[1;32m      2\u001b[0m \u001b[0mbtn_upload\u001b[0m \u001b[0;34m=\u001b[0m \u001b[0mwidgets\u001b[0m\u001b[0;34m.\u001b[0m\u001b[0mFileUpload\u001b[0m\u001b[0;34m(\u001b[0m\u001b[0;34m)\u001b[0m\u001b[0;34m\u001b[0m\u001b[0;34m\u001b[0m\u001b[0m\n\u001b[1;32m      3\u001b[0m \u001b[0mout_pl\u001b[0m \u001b[0;34m=\u001b[0m \u001b[0mwidgets\u001b[0m\u001b[0;34m.\u001b[0m\u001b[0mOutput\u001b[0m\u001b[0;34m(\u001b[0m\u001b[0;34m)\u001b[0m\u001b[0;34m\u001b[0m\u001b[0;34m\u001b[0m\u001b[0m\n\u001b[1;32m      4\u001b[0m \u001b[0mlbl_pred\u001b[0m \u001b[0;34m=\u001b[0m \u001b[0mwidgets\u001b[0m\u001b[0;34m.\u001b[0m\u001b[0mLabel\u001b[0m\u001b[0;34m(\u001b[0m\u001b[0;34m)\u001b[0m\u001b[0;34m\u001b[0m\u001b[0;34m\u001b[0m\u001b[0m\n",
            "\u001b[0;32m~/.local/lib/python3.8/site-packages/fastai/learner.py\u001b[0m in \u001b[0;36mload_learner\u001b[0;34m(fname, cpu, pickle_module)\u001b[0m\n\u001b[1;32m    552\u001b[0m     \u001b[0;34m\"Load a `Learner` object in `fname`, optionally putting it on the `cpu`\"\u001b[0m\u001b[0;34m\u001b[0m\u001b[0;34m\u001b[0m\u001b[0m\n\u001b[1;32m    553\u001b[0m     \u001b[0mdistrib_barrier\u001b[0m\u001b[0;34m(\u001b[0m\u001b[0;34m)\u001b[0m\u001b[0;34m\u001b[0m\u001b[0;34m\u001b[0m\u001b[0m\n\u001b[0;32m--> 554\u001b[0;31m     \u001b[0mres\u001b[0m \u001b[0;34m=\u001b[0m \u001b[0mtorch\u001b[0m\u001b[0;34m.\u001b[0m\u001b[0mload\u001b[0m\u001b[0;34m(\u001b[0m\u001b[0mfname\u001b[0m\u001b[0;34m,\u001b[0m \u001b[0mmap_location\u001b[0m\u001b[0;34m=\u001b[0m\u001b[0;34m'cpu'\u001b[0m \u001b[0;32mif\u001b[0m \u001b[0mcpu\u001b[0m \u001b[0;32melse\u001b[0m \u001b[0;32mNone\u001b[0m\u001b[0;34m,\u001b[0m \u001b[0mpickle_module\u001b[0m\u001b[0;34m=\u001b[0m\u001b[0mpickle_module\u001b[0m\u001b[0;34m)\u001b[0m\u001b[0;34m\u001b[0m\u001b[0;34m\u001b[0m\u001b[0m\n\u001b[0m\u001b[1;32m    555\u001b[0m     \u001b[0;32mif\u001b[0m \u001b[0mhasattr\u001b[0m\u001b[0;34m(\u001b[0m\u001b[0mres\u001b[0m\u001b[0;34m,\u001b[0m \u001b[0;34m'to_fp32'\u001b[0m\u001b[0;34m)\u001b[0m\u001b[0;34m:\u001b[0m \u001b[0mres\u001b[0m \u001b[0;34m=\u001b[0m \u001b[0mres\u001b[0m\u001b[0;34m.\u001b[0m\u001b[0mto_fp32\u001b[0m\u001b[0;34m(\u001b[0m\u001b[0;34m)\u001b[0m\u001b[0;34m\u001b[0m\u001b[0;34m\u001b[0m\u001b[0m\n\u001b[1;32m    556\u001b[0m     \u001b[0;32mif\u001b[0m \u001b[0mcpu\u001b[0m\u001b[0;34m:\u001b[0m \u001b[0mres\u001b[0m\u001b[0;34m.\u001b[0m\u001b[0mdls\u001b[0m\u001b[0;34m.\u001b[0m\u001b[0mcpu\u001b[0m\u001b[0;34m(\u001b[0m\u001b[0;34m)\u001b[0m\u001b[0;34m\u001b[0m\u001b[0;34m\u001b[0m\u001b[0m\n",
            "\u001b[0;32m~/.local/lib/python3.8/site-packages/torch/serialization.py\u001b[0m in \u001b[0;36mload\u001b[0;34m(f, map_location, pickle_module, **pickle_load_args)\u001b[0m\n\u001b[1;32m    592\u001b[0m                     \u001b[0mopened_file\u001b[0m\u001b[0;34m.\u001b[0m\u001b[0mseek\u001b[0m\u001b[0;34m(\u001b[0m\u001b[0morig_position\u001b[0m\u001b[0;34m)\u001b[0m\u001b[0;34m\u001b[0m\u001b[0;34m\u001b[0m\u001b[0m\n\u001b[1;32m    593\u001b[0m                     \u001b[0;32mreturn\u001b[0m \u001b[0mtorch\u001b[0m\u001b[0;34m.\u001b[0m\u001b[0mjit\u001b[0m\u001b[0;34m.\u001b[0m\u001b[0mload\u001b[0m\u001b[0;34m(\u001b[0m\u001b[0mopened_file\u001b[0m\u001b[0;34m)\u001b[0m\u001b[0;34m\u001b[0m\u001b[0;34m\u001b[0m\u001b[0m\n\u001b[0;32m--> 594\u001b[0;31m                 \u001b[0;32mreturn\u001b[0m \u001b[0m_load\u001b[0m\u001b[0;34m(\u001b[0m\u001b[0mopened_zipfile\u001b[0m\u001b[0;34m,\u001b[0m \u001b[0mmap_location\u001b[0m\u001b[0;34m,\u001b[0m \u001b[0mpickle_module\u001b[0m\u001b[0;34m,\u001b[0m \u001b[0;34m**\u001b[0m\u001b[0mpickle_load_args\u001b[0m\u001b[0;34m)\u001b[0m\u001b[0;34m\u001b[0m\u001b[0;34m\u001b[0m\u001b[0m\n\u001b[0m\u001b[1;32m    595\u001b[0m         \u001b[0;32mreturn\u001b[0m \u001b[0m_legacy_load\u001b[0m\u001b[0;34m(\u001b[0m\u001b[0mopened_file\u001b[0m\u001b[0;34m,\u001b[0m \u001b[0mmap_location\u001b[0m\u001b[0;34m,\u001b[0m \u001b[0mpickle_module\u001b[0m\u001b[0;34m,\u001b[0m \u001b[0;34m**\u001b[0m\u001b[0mpickle_load_args\u001b[0m\u001b[0;34m)\u001b[0m\u001b[0;34m\u001b[0m\u001b[0;34m\u001b[0m\u001b[0m\n\u001b[1;32m    596\u001b[0m \u001b[0;34m\u001b[0m\u001b[0m\n",
            "\u001b[0;32m~/.local/lib/python3.8/site-packages/torch/serialization.py\u001b[0m in \u001b[0;36m_load\u001b[0;34m(zip_file, map_location, pickle_module, pickle_file, **pickle_load_args)\u001b[0m\n\u001b[1;32m    851\u001b[0m     \u001b[0munpickler\u001b[0m \u001b[0;34m=\u001b[0m \u001b[0mpickle_module\u001b[0m\u001b[0;34m.\u001b[0m\u001b[0mUnpickler\u001b[0m\u001b[0;34m(\u001b[0m\u001b[0mdata_file\u001b[0m\u001b[0;34m,\u001b[0m \u001b[0;34m**\u001b[0m\u001b[0mpickle_load_args\u001b[0m\u001b[0;34m)\u001b[0m\u001b[0;34m\u001b[0m\u001b[0;34m\u001b[0m\u001b[0m\n\u001b[1;32m    852\u001b[0m     \u001b[0munpickler\u001b[0m\u001b[0;34m.\u001b[0m\u001b[0mpersistent_load\u001b[0m \u001b[0;34m=\u001b[0m \u001b[0mpersistent_load\u001b[0m\u001b[0;34m\u001b[0m\u001b[0;34m\u001b[0m\u001b[0m\n\u001b[0;32m--> 853\u001b[0;31m     \u001b[0mresult\u001b[0m \u001b[0;34m=\u001b[0m \u001b[0munpickler\u001b[0m\u001b[0;34m.\u001b[0m\u001b[0mload\u001b[0m\u001b[0;34m(\u001b[0m\u001b[0;34m)\u001b[0m\u001b[0;34m\u001b[0m\u001b[0;34m\u001b[0m\u001b[0m\n\u001b[0m\u001b[1;32m    854\u001b[0m \u001b[0;34m\u001b[0m\u001b[0m\n\u001b[1;32m    855\u001b[0m     \u001b[0mtorch\u001b[0m\u001b[0;34m.\u001b[0m\u001b[0m_utils\u001b[0m\u001b[0;34m.\u001b[0m\u001b[0m_validate_loaded_sparse_tensors\u001b[0m\u001b[0;34m(\u001b[0m\u001b[0;34m)\u001b[0m\u001b[0;34m\u001b[0m\u001b[0;34m\u001b[0m\u001b[0m\n",
            "\u001b[0;31mAttributeError\u001b[0m: Can't get attribute 'is_cat' on <module '__main__'>"
          ]
        }
      ]
    },
    {
      "cell_type": "code",
      "metadata": {
        "id": "HtEQ-sFh2NGZ"
      },
      "source": [
        "def on_data_change(change):\r\n",
        "    lbl_pred.value = ''\r\n",
        "    img = PILImage.create(btn_upload.data[-1])\r\n",
        "    out_pl.clear_output()\r\n",
        "    with out_pl: display(img.to_thumb(128,128))\r\n",
        "    pred,pred_idx,probs = learn_inf.predict(img)\r\n",
        "    lbl_pred.value = f'Prediction: {pred}; Probability: {probs[pred_idx]:.04f}'"
      ],
      "execution_count": 7,
      "outputs": []
    },
    {
      "cell_type": "code",
      "metadata": {
        "colab": {
          "base_uri": "https://localhost:8080/",
          "height": 218,
          "referenced_widgets": [
            "59dd4695d7a940cba7cb4b59390d8261",
            "7641cb1053044833b5d773eb987b5632",
            "8652af4d0d704af2942921025eb6ade3",
            "fad71b4159ca4c828979479e8cbd297e",
            "3d6557171b0849d39bf5b025fd1c396c",
            "c0c0c75a32b04515837afae6e310edb3",
            "8c69755cf3624300a5c0a9ffc79ddcaa",
            "d48b3fda85814140bc4f7bea4f058e16",
            "928e42d0010947e993a614e1721f6600",
            "70c1e641ee6a4bb0ad67546eaa4a004e",
            "4c144b5e92704f4cacc90fbae9084d90",
            "350579f782c348d49b8fbeb59c6f9c2d",
            "f0caa3aefaca4732946459db86afabbd"
          ]
        },
        "id": "yv96x_gC2N2_",
        "outputId": "6969e261-abd8-4a4b-b659-a394d5f08ff7"
      },
      "source": [
        "btn_upload.observe(on_data_change, names=['data'])\r\n",
        "display(VBox([widgets.Label('Select your cat!'), btn_upload, out_pl, lbl_pred]))"
      ],
      "execution_count": 8,
      "outputs": [
        {
          "output_type": "error",
          "ename": "NameError",
          "evalue": "name 'btn_upload' is not defined",
          "traceback": [
            "\u001b[0;31m---------------------------------------------------------------------------\u001b[0m",
            "\u001b[0;31mNameError\u001b[0m                                 Traceback (most recent call last)",
            "\u001b[0;32m<ipython-input-8-f7adc4e98290>\u001b[0m in \u001b[0;36m<module>\u001b[0;34m\u001b[0m\n\u001b[0;32m----> 1\u001b[0;31m \u001b[0mbtn_upload\u001b[0m\u001b[0;34m.\u001b[0m\u001b[0mobserve\u001b[0m\u001b[0;34m(\u001b[0m\u001b[0mon_data_change\u001b[0m\u001b[0;34m,\u001b[0m \u001b[0mnames\u001b[0m\u001b[0;34m=\u001b[0m\u001b[0;34m[\u001b[0m\u001b[0;34m'data'\u001b[0m\u001b[0;34m]\u001b[0m\u001b[0;34m)\u001b[0m\u001b[0;34m\u001b[0m\u001b[0;34m\u001b[0m\u001b[0m\n\u001b[0m\u001b[1;32m      2\u001b[0m \u001b[0mdisplay\u001b[0m\u001b[0;34m(\u001b[0m\u001b[0mVBox\u001b[0m\u001b[0;34m(\u001b[0m\u001b[0;34m[\u001b[0m\u001b[0mwidgets\u001b[0m\u001b[0;34m.\u001b[0m\u001b[0mLabel\u001b[0m\u001b[0;34m(\u001b[0m\u001b[0;34m'Select your cat!'\u001b[0m\u001b[0;34m)\u001b[0m\u001b[0;34m,\u001b[0m \u001b[0mbtn_upload\u001b[0m\u001b[0;34m,\u001b[0m \u001b[0mout_pl\u001b[0m\u001b[0;34m,\u001b[0m \u001b[0mlbl_pred\u001b[0m\u001b[0;34m]\u001b[0m\u001b[0;34m)\u001b[0m\u001b[0;34m)\u001b[0m\u001b[0;34m\u001b[0m\u001b[0;34m\u001b[0m\u001b[0m\n",
            "\u001b[0;31mNameError\u001b[0m: name 'btn_upload' is not defined"
          ]
        }
      ]
    },
    {
      "cell_type": "code",
      "execution_count": null,
      "metadata": {},
      "outputs": [],
      "source": []
    }
  ]
}